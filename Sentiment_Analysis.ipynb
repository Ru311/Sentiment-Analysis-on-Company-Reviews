{
 "cells": [
  {
   "cell_type": "markdown",
   "id": "fb72cc72",
   "metadata": {},
   "source": [
    "**Rucha Vaikar**  \n",
    "**NLP Lab 8**   \n",
    "**PC 51**\n"
   ]
  },
  {
   "cell_type": "code",
   "execution_count": 1,
   "id": "894e5e6b",
   "metadata": {},
   "outputs": [],
   "source": [
    "import nltk\n",
    "import string\n",
    "import matplotlib.pyplot as plt\n",
    "import numpy as np\n",
    "import math\n",
    "import pandas as pd\n",
    "from nltk.util import ngrams\n",
    "from nltk.stem import WordNetLemmatizer \n",
    "from nltk.corpus import stopwords\n",
    "import re\n",
    "from gensim.models import Word2Vec"
   ]
  },
  {
   "cell_type": "code",
   "execution_count": 2,
   "id": "d70c7a26",
   "metadata": {},
   "outputs": [],
   "source": [
    "from sklearn.model_selection import train_test_split\n",
    "import joblib\n",
    "from sklearn.feature_extraction.text import CountVectorizer"
   ]
  },
  {
   "cell_type": "code",
   "execution_count": 3,
   "id": "01ad6252",
   "metadata": {},
   "outputs": [],
   "source": [
    "import nltk.sentiment.vader\n",
    "from nltk.sentiment import SentimentIntensityAnalyzer"
   ]
  },
  {
   "cell_type": "code",
   "execution_count": 4,
   "id": "5e568ae7",
   "metadata": {},
   "outputs": [],
   "source": [
    "name_of_company = ['NA']*17051\n",
    "reviews = ['NA']*17051\n",
    "polarity = ['NA']*17051\n",
    "result = [{'neg': 0.0, 'neu': 0.0, 'pos': 0.0, 'compound': 0.0}]*17051"
   ]
  },
  {
   "cell_type": "code",
   "execution_count": 5,
   "id": "3bdbf686",
   "metadata": {},
   "outputs": [],
   "source": [
    "import sys,argparse,csv\n",
    "with open ('company_reviews.csv', encoding=\"utf8\") as csv_file:\n",
    "    csv_reader=csv.DictReader(csv_file,delimiter=',')\n",
    "    i=0\n",
    "    for row in csv_reader:\n",
    "                name_of_company[i] = row['name']\n",
    "                reviews[i] = row['description']\n",
    "                i=i+1\n",
    "csv_file.close()"
   ]
  },
  {
   "cell_type": "code",
   "execution_count": 19,
   "id": "0e25dc80",
   "metadata": {},
   "outputs": [],
   "source": [
    "from nltk.sentiment import SentimentIntensityAnalyzer\n",
    "for i in range (0,17051):\n",
    "    sia = SentimentIntensityAnalyzer()\n",
    "    result[i] = sia.polarity_scores(reviews[i])\n",
    "    if result[i]['neg'] > 0.2:\n",
    "        polarity[i] = 'neg'\n",
    "    elif result[i]['pos'] > 0.2:\n",
    "        polarity[i] = 'pos'\n",
    "    else:\n",
    "        polarity[i] = 'neutral'"
   ]
  },
  {
   "cell_type": "code",
   "execution_count": 20,
   "id": "59b4b1f1",
   "metadata": {},
   "outputs": [],
   "source": [
    "#Creating a df for training\n",
    "df = pd.DataFrame(reviews, columns=['reviews'])\n",
    "df['polarity'] = polarity"
   ]
  },
  {
   "cell_type": "code",
   "execution_count": 21,
   "id": "bfed4541",
   "metadata": {},
   "outputs": [],
   "source": [
    "# Lowercase the data\n",
    "df['reviews'] = df['reviews'].str.strip().str.lower()"
   ]
  },
  {
   "cell_type": "code",
   "execution_count": 32,
   "id": "221513f0",
   "metadata": {},
   "outputs": [
    {
     "data": {
      "text/html": [
       "<div>\n",
       "<style scoped>\n",
       "    .dataframe tbody tr th:only-of-type {\n",
       "        vertical-align: middle;\n",
       "    }\n",
       "\n",
       "    .dataframe tbody tr th {\n",
       "        vertical-align: top;\n",
       "    }\n",
       "\n",
       "    .dataframe thead th {\n",
       "        text-align: right;\n",
       "    }\n",
       "</style>\n",
       "<table border=\"1\" class=\"dataframe\">\n",
       "  <thead>\n",
       "    <tr style=\"text-align: right;\">\n",
       "      <th></th>\n",
       "      <th>reviews</th>\n",
       "      <th>polarity</th>\n",
       "    </tr>\n",
       "  </thead>\n",
       "  <tbody>\n",
       "    <tr>\n",
       "      <th>0</th>\n",
       "      <td>sitel group’s 75,000 people across the globe c...</td>\n",
       "      <td>neutral</td>\n",
       "    </tr>\n",
       "    <tr>\n",
       "      <th>1</th>\n",
       "      <td>you'll work with the most experienced and loya...</td>\n",
       "      <td>pos</td>\n",
       "    </tr>\n",
       "    <tr>\n",
       "      <th>2</th>\n",
       "      <td>why intermountain?\\n\\nwe bring hope\\n\\nwith ou...</td>\n",
       "      <td>pos</td>\n",
       "    </tr>\n",
       "    <tr>\n",
       "      <th>3</th>\n",
       "      <td>it's more than business at smith+nephew - it's...</td>\n",
       "      <td>neutral</td>\n",
       "    </tr>\n",
       "    <tr>\n",
       "      <th>4</th>\n",
       "      <td>reverse mortgage funding llc is committed to e...</td>\n",
       "      <td>pos</td>\n",
       "    </tr>\n",
       "    <tr>\n",
       "      <th>...</th>\n",
       "      <td>...</td>\n",
       "      <td>...</td>\n",
       "    </tr>\n",
       "    <tr>\n",
       "      <th>17046</th>\n",
       "      <td>sciencelogic is a leader in it operations mana...</td>\n",
       "      <td>neutral</td>\n",
       "    </tr>\n",
       "    <tr>\n",
       "      <th>17047</th>\n",
       "      <td>northland pace senior care services has at its...</td>\n",
       "      <td>pos</td>\n",
       "    </tr>\n",
       "    <tr>\n",
       "      <th>17048</th>\n",
       "      <td>at lloyd, we are not just agents of talent, bu...</td>\n",
       "      <td>pos</td>\n",
       "    </tr>\n",
       "    <tr>\n",
       "      <th>17049</th>\n",
       "      <td>north star insurance advisors, llc is a premiu...</td>\n",
       "      <td>neutral</td>\n",
       "    </tr>\n",
       "    <tr>\n",
       "      <th>17050</th>\n",
       "      <td>na</td>\n",
       "      <td>neutral</td>\n",
       "    </tr>\n",
       "  </tbody>\n",
       "</table>\n",
       "<p>17051 rows × 2 columns</p>\n",
       "</div>"
      ],
      "text/plain": [
       "                                                 reviews polarity\n",
       "0      sitel group’s 75,000 people across the globe c...  neutral\n",
       "1      you'll work with the most experienced and loya...      pos\n",
       "2      why intermountain?\\n\\nwe bring hope\\n\\nwith ou...      pos\n",
       "3      it's more than business at smith+nephew - it's...  neutral\n",
       "4      reverse mortgage funding llc is committed to e...      pos\n",
       "...                                                  ...      ...\n",
       "17046  sciencelogic is a leader in it operations mana...  neutral\n",
       "17047  northland pace senior care services has at its...      pos\n",
       "17048  at lloyd, we are not just agents of talent, bu...      pos\n",
       "17049  north star insurance advisors, llc is a premiu...  neutral\n",
       "17050                                                 na  neutral\n",
       "\n",
       "[17051 rows x 2 columns]"
      ]
     },
     "execution_count": 32,
     "metadata": {},
     "output_type": "execute_result"
    }
   ],
   "source": [
    "df"
   ]
  },
  {
   "cell_type": "code",
   "execution_count": 22,
   "id": "0bbda5bf",
   "metadata": {},
   "outputs": [],
   "source": [
    "# Split into training and testing data\n",
    "x = df['reviews']\n",
    "y = df['polarity']\n",
    "x, x_test, y, y_test = train_test_split(x,y, stratify=y, test_size=0.25, random_state=42)"
   ]
  },
  {
   "cell_type": "code",
   "execution_count": 23,
   "id": "69cd57ec",
   "metadata": {},
   "outputs": [],
   "source": [
    "# Vectorize text reviews to numbers\n",
    "vec = CountVectorizer(stop_words='english')\n",
    "x = vec.fit_transform(x).toarray()\n",
    "x_test = vec.transform(x_test).toarray()"
   ]
  },
  {
   "cell_type": "code",
   "execution_count": 24,
   "id": "9f52c27a",
   "metadata": {},
   "outputs": [
    {
     "data": {
      "text/plain": [
       "MultinomialNB()"
      ]
     },
     "execution_count": 24,
     "metadata": {},
     "output_type": "execute_result"
    }
   ],
   "source": [
    "from sklearn.naive_bayes import MultinomialNB\n",
    "\n",
    "model = MultinomialNB()\n",
    "model.fit(x, y)"
   ]
  },
  {
   "cell_type": "code",
   "execution_count": 31,
   "id": "2bb0277b",
   "metadata": {},
   "outputs": [
    {
     "data": {
      "text/plain": [
       "array(['pos'], dtype='<U7')"
      ]
     },
     "execution_count": 31,
     "metadata": {},
     "output_type": "execute_result"
    }
   ],
   "source": [
    "model.score(x_test, y_test)\n",
    "model.predict(vec.transform(['this company is awesome!']))"
   ]
  }
 ],
 "metadata": {
  "kernelspec": {
   "display_name": "Python 3 (ipykernel)",
   "language": "python",
   "name": "python3"
  },
  "language_info": {
   "codemirror_mode": {
    "name": "ipython",
    "version": 3
   },
   "file_extension": ".py",
   "mimetype": "text/x-python",
   "name": "python",
   "nbconvert_exporter": "python",
   "pygments_lexer": "ipython3",
   "version": "3.9.7"
  }
 },
 "nbformat": 4,
 "nbformat_minor": 5
}
